{
 "cells": [
  {
   "cell_type": "markdown",
   "id": "32ac33b1-a4a0-42f5-8685-fe95e7412bc1",
   "metadata": {},
   "source": [
    "# RecTools with features - PROJECTS"
   ]
  },
  {
   "cell_type": "markdown",
   "id": "ffe59dc1-f003-4b43-a81d-caa9d7b22fe3",
   "metadata": {
    "jp-MarkdownHeadingCollapsed": true
   },
   "source": [
    "### import libraries"
   ]
  },
  {
   "cell_type": "code",
   "execution_count": 1,
   "id": "ddf04d92-09fb-4f14-8cfa-e01413773374",
   "metadata": {},
   "outputs": [
    {
     "name": "stderr",
     "output_type": "stream",
     "text": [
      "C:\\Anaconda\\envs\\py38\\lib\\site-packages\\tqdm\\auto.py:21: TqdmWarning: IProgress not found. Please update jupyter and ipywidgets. See https://ipywidgets.readthedocs.io/en/stable/user_install.html\n",
      "  from .autonotebook import tqdm as notebook_tqdm\n",
      "C:\\Anaconda\\envs\\py38\\lib\\site-packages\\lightfm\\_lightfm_fast.py:9: UserWarning: LightFM was compiled without OpenMP support. Only a single thread will be used.\n",
      "  warnings.warn(\n"
     ]
    }
   ],
   "source": [
    "import os\n",
    "\n",
    "import numpy as np\n",
    "import pandas as pd\n",
    "import matplotlib.pyplot as plt\n",
    "\n",
    "from implicit.nearest_neighbours import TFIDFRecommender, BM25Recommender\n",
    "from implicit.als import AlternatingLeastSquares\n",
    "from lightfm import LightFM\n",
    "\n",
    "from rectools import Columns\n",
    "from rectools.dataset import Dataset\n",
    "from rectools.models import ImplicitALSWrapperModel\n",
    "from rectools.models import LightFMWrapperModel, ImplicitItemKNNWrapperModel, RandomModel, PopularModel\n",
    "\n",
    "\n",
    "from numpy import genfromtxt"
   ]
  },
  {
   "cell_type": "code",
   "execution_count": 2,
   "id": "1175156b-e9b1-4448-896d-b6ed19943eed",
   "metadata": {},
   "outputs": [],
   "source": [
    "from rectools.metrics import Precision, Recall, MeanInvUserFreq, Serendipity, calc_metrics, MAP, MCC, MRR, IntraListDiversity, F1Beta, Accuracy, NDCG, IntraListDiversity\n",
    "from rectools.model_selection import TimeRangeSplitter, cross_validate"
   ]
  },
  {
   "cell_type": "code",
   "execution_count": 3,
   "id": "1be4f826-d538-4ce4-8c26-d3fd67b159a7",
   "metadata": {},
   "outputs": [],
   "source": [
    "from rectools.metrics.distances import PairwiseHammingDistanceCalculator"
   ]
  },
  {
   "cell_type": "markdown",
   "id": "8ffcf607-9c6d-4bca-9cc8-bbdf17a000bb",
   "metadata": {
    "jp-MarkdownHeadingCollapsed": true
   },
   "source": [
    "### load data"
   ]
  },
  {
   "cell_type": "code",
   "execution_count": 4,
   "id": "d7feb0ec-17bd-4dfb-8508-26972aac954d",
   "metadata": {
    "scrolled": true
   },
   "outputs": [],
   "source": [
    "projects = pd.read_csv(\n",
    "    \"проекты_и_компании_2024-09-13T14_31_07.415586Z.csv\",\n",
    "    engine=\"c\",\n",
    "    usecols=['ID Проекта', 'Название']\n",
    "    )\n",
    "projects.columns = ['ID', 'Title']"
   ]
  },
  {
   "cell_type": "code",
   "execution_count": 5,
   "id": "3a102cc3-12ca-46cd-9a6d-30e708c25aa2",
   "metadata": {},
   "outputs": [],
   "source": [
    "oldViews = pd.read_csv(\n",
    "    \"просмотры_проектов_2024-09-20T10_22_58.285588Z.csv\",\n",
    "    engine=\"python\",  # Because of 2-chars separators\n",
    "    header=0,\n",
    "    names=[Columns.Datetime, Columns.User, Columns.Item]\n",
    "    )\n",
    "oldViews['weight'] = np.full(oldViews.shape[0], 1)"
   ]
  },
  {
   "cell_type": "code",
   "execution_count": 6,
   "id": "0386be32-f6f6-4eb7-b7db-2b1b78aba479",
   "metadata": {
    "scrolled": true
   },
   "outputs": [],
   "source": [
    "views = pd.read_csv(\n",
    "    \"просмотры_проектов__clickhouse__2024-09-13T14_24_44.471163Z.csv\",\n",
    "    engine=\"python\",  # Because of 2-chars separators\n",
    "    header=0,\n",
    "    names=[Columns.Datetime, Columns.User, Columns.Item]\n",
    "    )\n",
    "views['weight'] = np.full(views.shape[0], 1)"
   ]
  },
  {
   "cell_type": "code",
   "execution_count": 7,
   "id": "ad25f662-28bd-4300-baec-73711f8495db",
   "metadata": {
    "scrolled": true
   },
   "outputs": [],
   "source": [
    "responses = pd.read_csv(\n",
    "    \"участие_в_проектах_2024-09-13T14_49_23.189163Z.csv\",\n",
    "    engine=\"python\",\n",
    "    header=0,\n",
    "    usecols=['Дата', 'ID Проекта', 'ID Пользователя'],\n",
    "    )\n",
    "responses['weight'] = np.full(responses.shape[0], 2)\n",
    "responses = responses.rename(columns={'Дата': Columns.Datetime, 'ID Проекта': Columns.Item, 'ID Пользователя': Columns.User, 'weight': Columns.Weight})\n",
    "responses = responses[['datetime', 'user_id', 'item_id', 'weight']]"
   ]
  },
  {
   "cell_type": "code",
   "execution_count": 8,
   "id": "f2218621-d566-4da8-b98c-1603d7588b03",
   "metadata": {},
   "outputs": [],
   "source": [
    "oldViews = oldViews.loc[(oldViews[\"datetime\"] < min(views['datetime']))]"
   ]
  },
  {
   "cell_type": "code",
   "execution_count": 9,
   "id": "63ac4e41-a374-4597-9a4e-d960139ffa6f",
   "metadata": {},
   "outputs": [
    {
     "data": {
      "text/plain": [
       "(12698, 4)"
      ]
     },
     "execution_count": 9,
     "metadata": {},
     "output_type": "execute_result"
    }
   ],
   "source": [
    "data = pd.concat([oldViews, views, responses], axis=0)\n",
    "data = data.sort_values('datetime').reset_index(drop=True)\n",
    "data.shape"
   ]
  },
  {
   "cell_type": "markdown",
   "id": "e7653cb6-a64e-4741-94dc-5c2397b30df4",
   "metadata": {
    "jp-MarkdownHeadingCollapsed": true
   },
   "source": [
    "### train & test"
   ]
  },
  {
   "cell_type": "code",
   "execution_count": 10,
   "id": "a68a74a4-ce50-4009-946d-8396e57e148d",
   "metadata": {},
   "outputs": [],
   "source": [
    "data['datetime'] = pd.to_datetime(data['datetime'])\n",
    "split_date = '2024-06-20'\n",
    "\n",
    "# разделяем выборку на две части\n",
    "df_train = data[data['datetime'] < split_date]\n",
    "df_test = data[data['datetime'] >= split_date]"
   ]
  },
  {
   "cell_type": "code",
   "execution_count": 11,
   "id": "e1b18223-b7df-4926-8227-3d1c95a984f3",
   "metadata": {},
   "outputs": [
    {
     "name": "stdout",
     "output_type": "stream",
     "text": [
      "10014 2684\n"
     ]
    }
   ],
   "source": [
    "print(len(df_train), len(df_test))"
   ]
  },
  {
   "cell_type": "markdown",
   "id": "5921f628-f9d4-48d8-98de-6bf2ff229b80",
   "metadata": {
    "jp-MarkdownHeadingCollapsed": true
   },
   "source": [
    "### load features"
   ]
  },
  {
   "cell_type": "code",
   "execution_count": 12,
   "id": "09a75639-9615-4d97-ba88-18062d6b90b0",
   "metadata": {
    "scrolled": true
   },
   "outputs": [],
   "source": [
    "users = pd.read_csv(\n",
    "    \"все_студенты__без_пд__2024-09-06T14_56_40.946035Z.csv\",\n",
    "    engine=\"python\",  # Because of 2-chars separators\n",
    "    header=0,\n",
    "    usecols=[\"ID ИОТ\", \"Группа\", \"Специальность\", \"Уровень образования\"]\n",
    "    )\n",
    "users = users.rename(columns={\"ID ИОТ\": \"user_id\", \"Группа\": \"course\", \"Специальность\": \"spec\", \"Уровень образования\": \"graduation\" })"
   ]
  },
  {
   "cell_type": "code",
   "execution_count": 13,
   "id": "e48f0573-a6e1-4a20-ab81-56931ddfa179",
   "metadata": {},
   "outputs": [
    {
     "data": {
      "text/plain": [
       "324"
      ]
     },
     "execution_count": 13,
     "metadata": {},
     "output_type": "execute_result"
    }
   ],
   "source": [
    "users = users.loc[users[\"user_id\"].isin(df_train[\"user_id\"])].copy()\n",
    "len(users)"
   ]
  },
  {
   "cell_type": "code",
   "execution_count": 14,
   "id": "4288f2da-d4a9-414d-ad66-a0bf10cc8165",
   "metadata": {},
   "outputs": [
    {
     "data": {
      "text/html": [
       "<div>\n",
       "<style scoped>\n",
       "    .dataframe tbody tr th:only-of-type {\n",
       "        vertical-align: middle;\n",
       "    }\n",
       "\n",
       "    .dataframe tbody tr th {\n",
       "        vertical-align: top;\n",
       "    }\n",
       "\n",
       "    .dataframe thead th {\n",
       "        text-align: right;\n",
       "    }\n",
       "</style>\n",
       "<table border=\"1\" class=\"dataframe\">\n",
       "  <thead>\n",
       "    <tr style=\"text-align: right;\">\n",
       "      <th></th>\n",
       "      <th>id</th>\n",
       "      <th>value</th>\n",
       "      <th>feature</th>\n",
       "    </tr>\n",
       "  </thead>\n",
       "  <tbody>\n",
       "    <tr>\n",
       "      <th>0</th>\n",
       "      <td>1305</td>\n",
       "      <td>2935</td>\n",
       "      <td>course</td>\n",
       "    </tr>\n",
       "    <tr>\n",
       "      <th>14702</th>\n",
       "      <td>1305</td>\n",
       "      <td>6304</td>\n",
       "      <td>course</td>\n",
       "    </tr>\n",
       "    <tr>\n",
       "      <th>17992</th>\n",
       "      <td>1305</td>\n",
       "      <td>Бакалавриат</td>\n",
       "      <td>graduation</td>\n",
       "    </tr>\n",
       "    <tr>\n",
       "      <th>17992</th>\n",
       "      <td>1305</td>\n",
       "      <td>6304</td>\n",
       "      <td>course</td>\n",
       "    </tr>\n",
       "    <tr>\n",
       "      <th>0</th>\n",
       "      <td>1305</td>\n",
       "      <td>Аспирантура</td>\n",
       "      <td>graduation</td>\n",
       "    </tr>\n",
       "    <tr>\n",
       "      <th>...</th>\n",
       "      <td>...</td>\n",
       "      <td>...</td>\n",
       "      <td>...</td>\n",
       "    </tr>\n",
       "    <tr>\n",
       "      <th>10486</th>\n",
       "      <td>22815</td>\n",
       "      <td>Информатика и вычислительная техника</td>\n",
       "      <td>spec</td>\n",
       "    </tr>\n",
       "    <tr>\n",
       "      <th>10486</th>\n",
       "      <td>22815</td>\n",
       "      <td>Магистратура</td>\n",
       "      <td>graduation</td>\n",
       "    </tr>\n",
       "    <tr>\n",
       "      <th>10555</th>\n",
       "      <td>22884</td>\n",
       "      <td>Магистратура</td>\n",
       "      <td>graduation</td>\n",
       "    </tr>\n",
       "    <tr>\n",
       "      <th>10555</th>\n",
       "      <td>22884</td>\n",
       "      <td>9310</td>\n",
       "      <td>course</td>\n",
       "    </tr>\n",
       "    <tr>\n",
       "      <th>10555</th>\n",
       "      <td>22884</td>\n",
       "      <td>Программная инженерия</td>\n",
       "      <td>spec</td>\n",
       "    </tr>\n",
       "  </tbody>\n",
       "</table>\n",
       "<p>972 rows × 3 columns</p>\n",
       "</div>"
      ],
      "text/plain": [
       "          id                                 value     feature\n",
       "0       1305                                  2935      course\n",
       "14702   1305                                  6304      course\n",
       "17992   1305                           Бакалавриат  graduation\n",
       "17992   1305                                  6304      course\n",
       "0       1305                           Аспирантура  graduation\n",
       "...      ...                                   ...         ...\n",
       "10486  22815  Информатика и вычислительная техника        spec\n",
       "10486  22815                          Магистратура  graduation\n",
       "10555  22884                          Магистратура  graduation\n",
       "10555  22884                                  9310      course\n",
       "10555  22884                 Программная инженерия        spec\n",
       "\n",
       "[972 rows x 3 columns]"
      ]
     },
     "execution_count": 14,
     "metadata": {},
     "output_type": "execute_result"
    }
   ],
   "source": [
    "user_features_frames = []\n",
    "for feature in [\"course\", \"spec\", \"graduation\"]:\n",
    "    feature_frame = users.reindex(columns=[\"user_id\", feature])\n",
    "    feature_frame.columns = [\"id\", \"value\"]\n",
    "    feature_frame[\"feature\"] = feature\n",
    "    user_features_frames.append(feature_frame)\n",
    "user_features = pd.concat(user_features_frames)\n",
    "user_features.sort_values(\"id\")"
   ]
  },
  {
   "cell_type": "code",
   "execution_count": 15,
   "id": "861e02c8-9ec6-4c92-973c-8f7c13558fe3",
   "metadata": {},
   "outputs": [
    {
     "name": "stdout",
     "output_type": "stream",
     "text": [
      "(134, 134)\n"
     ]
    }
   ],
   "source": [
    "item_features = pd.read_csv(\n",
    "    \"Cosine_Similarity_new.csv\",\n",
    "    engine=\"python\",  # Because of 2-chars separators\n",
    "    )\n",
    "print(item_features.shape)"
   ]
  },
  {
   "cell_type": "code",
   "execution_count": 16,
   "id": "5a35a5c5-b6a1-4774-89f4-1b0088f51d2d",
   "metadata": {},
   "outputs": [],
   "source": [
    "my_data = genfromtxt(\"Cosine_Similarity_new.csv\", delimiter=',')"
   ]
  },
  {
   "cell_type": "code",
   "execution_count": 17,
   "id": "cce4e072-6e76-46dc-87e9-64ff15684110",
   "metadata": {},
   "outputs": [
    {
     "name": "stderr",
     "output_type": "stream",
     "text": [
      "C:\\Users\\bryuh\\AppData\\Local\\Temp\\ipykernel_11916\\594138276.py:13: SettingWithCopyWarning: \n",
      "A value is trying to be set on a copy of a slice from a DataFrame\n",
      "\n",
      "See the caveats in the documentation: https://pandas.pydata.org/pandas-docs/stable/user_guide/indexing.html#returning-a-view-versus-a-copy\n",
      "  projectsM['CosSimularity'][i] = my_data_f[i]\n"
     ]
    }
   ],
   "source": [
    "projectsM = pd.read_csv(\n",
    "    \"проекты_и_компании_2024-09-13T14_31_07.415586Z.csv\",\n",
    "    engine=\"c\",\n",
    "    usecols=['ID Проекта']\n",
    "    )\n",
    "projectsM.columns = ['ID']\n",
    "\n",
    "my_data_f = my_data[1:]\n",
    "projectsM['CosSimularity'] = ''\n",
    "\n",
    "i = 0\n",
    "for md in my_data_f:\n",
    "    projectsM['CosSimularity'][i] = my_data_f[i]\n",
    "    i+=1\n",
    "\n",
    "cossimularity_feature = projectsM[[\"ID\", \"CosSimularity\"]].explode(\"CosSimularity\")\n",
    "cossimularity_feature.columns = [\"id\", \"value\"]\n",
    "cossimularity_feature['feature'] = ''\n",
    "\n",
    "md = projectsM['ID'].to_numpy()\n",
    "\n",
    "for i in range(len(md)):\n",
    "    cossimularity_feature.at[i, \"feature\"] = md\n",
    "\n",
    "md_list = projectsM['ID'].to_numpy()\n"
   ]
  },
  {
   "cell_type": "code",
   "execution_count": 20,
   "id": "e1f6da40-bdae-4b1f-a292-bb2f79bdab20",
   "metadata": {
    "scrolled": true
   },
   "outputs": [
    {
     "data": {
      "text/html": [
       "<div>\n",
       "<style scoped>\n",
       "    .dataframe tbody tr th:only-of-type {\n",
       "        vertical-align: middle;\n",
       "    }\n",
       "\n",
       "    .dataframe tbody tr th {\n",
       "        vertical-align: top;\n",
       "    }\n",
       "\n",
       "    .dataframe thead th {\n",
       "        text-align: right;\n",
       "    }\n",
       "</style>\n",
       "<table border=\"1\" class=\"dataframe\">\n",
       "  <thead>\n",
       "    <tr style=\"text-align: right;\">\n",
       "      <th></th>\n",
       "      <th>id</th>\n",
       "      <th>value</th>\n",
       "      <th>feature</th>\n",
       "    </tr>\n",
       "  </thead>\n",
       "  <tbody>\n",
       "    <tr>\n",
       "      <th>0</th>\n",
       "      <td>1</td>\n",
       "      <td>1.0</td>\n",
       "      <td>1</td>\n",
       "    </tr>\n",
       "    <tr>\n",
       "      <th>0</th>\n",
       "      <td>1</td>\n",
       "      <td>0.36081</td>\n",
       "      <td>2</td>\n",
       "    </tr>\n",
       "    <tr>\n",
       "      <th>0</th>\n",
       "      <td>1</td>\n",
       "      <td>0.372803</td>\n",
       "      <td>3</td>\n",
       "    </tr>\n",
       "    <tr>\n",
       "      <th>0</th>\n",
       "      <td>1</td>\n",
       "      <td>0.887113</td>\n",
       "      <td>4</td>\n",
       "    </tr>\n",
       "    <tr>\n",
       "      <th>0</th>\n",
       "      <td>1</td>\n",
       "      <td>0.857938</td>\n",
       "      <td>5</td>\n",
       "    </tr>\n",
       "    <tr>\n",
       "      <th>...</th>\n",
       "      <td>...</td>\n",
       "      <td>...</td>\n",
       "      <td>...</td>\n",
       "    </tr>\n",
       "    <tr>\n",
       "      <th>121</th>\n",
       "      <td>123</td>\n",
       "      <td>0.175262</td>\n",
       "      <td>131</td>\n",
       "    </tr>\n",
       "    <tr>\n",
       "      <th>121</th>\n",
       "      <td>123</td>\n",
       "      <td>0.281886</td>\n",
       "      <td>132</td>\n",
       "    </tr>\n",
       "    <tr>\n",
       "      <th>121</th>\n",
       "      <td>123</td>\n",
       "      <td>0.402911</td>\n",
       "      <td>133</td>\n",
       "    </tr>\n",
       "    <tr>\n",
       "      <th>121</th>\n",
       "      <td>123</td>\n",
       "      <td>0.362141</td>\n",
       "      <td>134</td>\n",
       "    </tr>\n",
       "    <tr>\n",
       "      <th>121</th>\n",
       "      <td>123</td>\n",
       "      <td>0.322179</td>\n",
       "      <td>135</td>\n",
       "    </tr>\n",
       "  </tbody>\n",
       "</table>\n",
       "<p>13266 rows × 3 columns</p>\n",
       "</div>"
      ],
      "text/plain": [
       "      id     value feature\n",
       "0      1       1.0       1\n",
       "0      1   0.36081       2\n",
       "0      1  0.372803       3\n",
       "0      1  0.887113       4\n",
       "0      1  0.857938       5\n",
       "..   ...       ...     ...\n",
       "121  123  0.175262     131\n",
       "121  123  0.281886     132\n",
       "121  123  0.402911     133\n",
       "121  123  0.362141     134\n",
       "121  123  0.322179     135\n",
       "\n",
       "[13266 rows x 3 columns]"
      ]
     },
     "execution_count": 20,
     "metadata": {},
     "output_type": "execute_result"
    }
   ],
   "source": [
    "cossimularity_feature_train = cossimularity_feature.loc[cossimularity_feature[\"id\"].isin(df_train[\"item_id\"])].copy()\n",
    "cossimularity_feature_train"
   ]
  },
  {
   "cell_type": "markdown",
   "id": "5a7d9299-41f6-4eb9-b836-c5520954e7dc",
   "metadata": {
    "jp-MarkdownHeadingCollapsed": true
   },
   "source": [
    "### create dataset"
   ]
  },
  {
   "cell_type": "code",
   "execution_count": 12,
   "id": "c29bfccc-e391-43a6-95a9-8caf3a1692c7",
   "metadata": {},
   "outputs": [],
   "source": [
    "dataset = Dataset.construct(df_train)"
   ]
  },
  {
   "cell_type": "code",
   "execution_count": 38,
   "id": "c1e1bde2-eabc-43bb-9804-5de5e74f670c",
   "metadata": {},
   "outputs": [],
   "source": [
    "sparse_features_dataset = Dataset.construct(\n",
    "    df_train,\n",
    "    user_features_df=user_features,  # our flatten dataframe\n",
    "    cat_user_features=[\"graduation\", \"spec\"], # these will be one-hot-encoded. All other features must be numerical already\n",
    "    make_dense_user_features=False  # for `sparse` format\n",
    ")"
   ]
  },
  {
   "cell_type": "markdown",
   "id": "918a9ea0-1376-4a27-a795-8dc0fdcac264",
   "metadata": {},
   "source": [
    "ИЛИ"
   ]
  },
  {
   "cell_type": "code",
   "execution_count": 22,
   "id": "4a7a654d-f8c4-4626-a772-9e47b7217794",
   "metadata": {},
   "outputs": [],
   "source": [
    "dataset_full_features = Dataset.construct(\n",
    "    interactions_df=df_train,\n",
    "    user_features_df=user_features,\n",
    "    cat_user_features=[\"graduation\", \"spec\"],\n",
    "    make_dense_user_features=False,\n",
    "    item_features_df=cossimularity_feature_train,\n",
    "    cat_item_features=md_list\n",
    ")"
   ]
  },
  {
   "cell_type": "markdown",
   "id": "70c3c1d9-864b-47e5-8478-75c1613b268a",
   "metadata": {
    "jp-MarkdownHeadingCollapsed": true
   },
   "source": [
    "### model create"
   ]
  },
  {
   "cell_type": "code",
   "execution_count": 39,
   "id": "c6fb100d-3156-4877-9e18-139f2af1841e",
   "metadata": {},
   "outputs": [
    {
     "name": "stderr",
     "output_type": "stream",
     "text": [
      "C:\\Anaconda\\envs\\py38\\lib\\site-packages\\implicit\\cpu\\als.py:95: RuntimeWarning: OpenBLAS is configured to use 12 threads. It is highly recommended to disable its internal threadpool by setting the environment variable 'OPENBLAS_NUM_THREADS=1' or by calling 'threadpoolctl.threadpool_limits(1, \"blas\")'. Having OpenBLAS use a threadpool can lead to severe performance issues here.\n",
      "  check_blas_config()\n",
      "C:\\Anaconda\\envs\\py38\\lib\\site-packages\\rectools\\dataset\\features.py:420: UserWarning: Converting sparse features to dense array may cause MemoryError\n",
      "  warnings.warn(\"Converting sparse features to dense array may cause MemoryError\")\n",
      "100%|██████████| 1/1 [00:00<00:00, 142.86it/s]\n"
     ]
    },
    {
     "data": {
      "text/plain": [
       "<rectools.models.implicit_als.ImplicitALSWrapperModel at 0x26f372abb20>"
      ]
     },
     "execution_count": 39,
     "metadata": {},
     "output_type": "execute_result"
    }
   ],
   "source": [
    "model = ImplicitALSWrapperModel(AlternatingLeastSquares(10, num_threads=32))\n",
    "model.fit(sparse_features_dataset)"
   ]
  },
  {
   "cell_type": "markdown",
   "id": "5b88db88-2974-4bde-b45c-ee175851f710",
   "metadata": {},
   "source": [
    "ИЛИ"
   ]
  },
  {
   "cell_type": "code",
   "execution_count": 23,
   "id": "0353a822-6e6e-425b-89fb-b893ed63eeb6",
   "metadata": {},
   "outputs": [
    {
     "name": "stderr",
     "output_type": "stream",
     "text": [
      "C:\\Anaconda\\envs\\py38\\lib\\site-packages\\implicit\\cpu\\als.py:95: RuntimeWarning: OpenBLAS is configured to use 12 threads. It is highly recommended to disable its internal threadpool by setting the environment variable 'OPENBLAS_NUM_THREADS=1' or by calling 'threadpoolctl.threadpool_limits(1, \"blas\")'. Having OpenBLAS use a threadpool can lead to severe performance issues here.\n",
      "  check_blas_config()\n",
      "C:\\Anaconda\\envs\\py38\\lib\\site-packages\\rectools\\dataset\\features.py:420: UserWarning: Converting sparse features to dense array may cause MemoryError\n",
      "  warnings.warn(\"Converting sparse features to dense array may cause MemoryError\")\n",
      "100%|██████████| 1/1 [00:00<00:00, 153.73it/s]\n",
      "100%|██████████| 1/1 [00:28<00:00, 28.17s/it]\n"
     ]
    },
    {
     "data": {
      "text/plain": [
       "<rectools.models.implicit_als.ImplicitALSWrapperModel at 0x13a63c07c10>"
      ]
     },
     "execution_count": 23,
     "metadata": {},
     "output_type": "execute_result"
    }
   ],
   "source": [
    "model = ImplicitALSWrapperModel(AlternatingLeastSquares(10, num_threads=32))\n",
    "model.fit(dataset_full_features)"
   ]
  },
  {
   "cell_type": "markdown",
   "id": "cdc6fc7b-04ee-47ce-822c-cee7f903ea06",
   "metadata": {},
   "source": [
    "### get recomendations"
   ]
  },
  {
   "cell_type": "code",
   "execution_count": 25,
   "id": "452b8e38-af9e-4ded-abc8-b54304d42ba5",
   "metadata": {},
   "outputs": [],
   "source": [
    "recos = model.recommend(\n",
    "    users=df_train[Columns.User].unique(),\n",
    "    dataset=dataset_full_features, #sparse_features_dataset\n",
    "    k=15,\n",
    "    filter_viewed=True,\n",
    ")"
   ]
  },
  {
   "cell_type": "code",
   "execution_count": 26,
   "id": "3b44698c-da42-4fb5-b502-0c27bf4b6393",
   "metadata": {},
   "outputs": [
    {
     "data": {
      "text/html": [
       "<div>\n",
       "<style scoped>\n",
       "    .dataframe tbody tr th:only-of-type {\n",
       "        vertical-align: middle;\n",
       "    }\n",
       "\n",
       "    .dataframe tbody tr th {\n",
       "        vertical-align: top;\n",
       "    }\n",
       "\n",
       "    .dataframe thead th {\n",
       "        text-align: right;\n",
       "    }\n",
       "</style>\n",
       "<table border=\"1\" class=\"dataframe\">\n",
       "  <thead>\n",
       "    <tr style=\"text-align: right;\">\n",
       "      <th></th>\n",
       "      <th>user_id</th>\n",
       "      <th>item_id</th>\n",
       "      <th>score</th>\n",
       "      <th>rank</th>\n",
       "    </tr>\n",
       "  </thead>\n",
       "  <tbody>\n",
       "    <tr>\n",
       "      <th>2</th>\n",
       "      <td>802</td>\n",
       "      <td>99</td>\n",
       "      <td>1.027564</td>\n",
       "      <td>3</td>\n",
       "    </tr>\n",
       "    <tr>\n",
       "      <th>4</th>\n",
       "      <td>802</td>\n",
       "      <td>92</td>\n",
       "      <td>0.680830</td>\n",
       "      <td>5</td>\n",
       "    </tr>\n",
       "    <tr>\n",
       "      <th>5</th>\n",
       "      <td>802</td>\n",
       "      <td>98</td>\n",
       "      <td>0.649672</td>\n",
       "      <td>6</td>\n",
       "    </tr>\n",
       "    <tr>\n",
       "      <th>6</th>\n",
       "      <td>802</td>\n",
       "      <td>103</td>\n",
       "      <td>0.611007</td>\n",
       "      <td>7</td>\n",
       "    </tr>\n",
       "    <tr>\n",
       "      <th>11</th>\n",
       "      <td>802</td>\n",
       "      <td>96</td>\n",
       "      <td>0.458624</td>\n",
       "      <td>12</td>\n",
       "    </tr>\n",
       "    <tr>\n",
       "      <th>...</th>\n",
       "      <td>...</td>\n",
       "      <td>...</td>\n",
       "      <td>...</td>\n",
       "      <td>...</td>\n",
       "    </tr>\n",
       "    <tr>\n",
       "      <th>4608</th>\n",
       "      <td>23847</td>\n",
       "      <td>102</td>\n",
       "      <td>0.556189</td>\n",
       "      <td>4</td>\n",
       "    </tr>\n",
       "    <tr>\n",
       "      <th>4609</th>\n",
       "      <td>23847</td>\n",
       "      <td>115</td>\n",
       "      <td>0.412364</td>\n",
       "      <td>5</td>\n",
       "    </tr>\n",
       "    <tr>\n",
       "      <th>4610</th>\n",
       "      <td>23847</td>\n",
       "      <td>98</td>\n",
       "      <td>0.342980</td>\n",
       "      <td>6</td>\n",
       "    </tr>\n",
       "    <tr>\n",
       "      <th>4611</th>\n",
       "      <td>23847</td>\n",
       "      <td>123</td>\n",
       "      <td>0.296729</td>\n",
       "      <td>7</td>\n",
       "    </tr>\n",
       "    <tr>\n",
       "      <th>4619</th>\n",
       "      <td>23847</td>\n",
       "      <td>103</td>\n",
       "      <td>0.218858</td>\n",
       "      <td>15</td>\n",
       "    </tr>\n",
       "  </tbody>\n",
       "</table>\n",
       "<p>2569 rows × 4 columns</p>\n",
       "</div>"
      ],
      "text/plain": [
       "      user_id  item_id     score  rank\n",
       "2         802       99  1.027564     3\n",
       "4         802       92  0.680830     5\n",
       "5         802       98  0.649672     6\n",
       "6         802      103  0.611007     7\n",
       "11        802       96  0.458624    12\n",
       "...       ...      ...       ...   ...\n",
       "4608    23847      102  0.556189     4\n",
       "4609    23847      115  0.412364     5\n",
       "4610    23847       98  0.342980     6\n",
       "4611    23847      123  0.296729     7\n",
       "4619    23847      103  0.218858    15\n",
       "\n",
       "[2569 rows x 4 columns]"
      ]
     },
     "execution_count": 26,
     "metadata": {},
     "output_type": "execute_result"
    }
   ],
   "source": [
    "closedProjects = pd.read_csv(\n",
    "    \"время_жизни_проектов_2024-09-15T14_24_25.319296Z.csv\"\n",
    ")\n",
    "closedProjects['createdAt'] = pd.to_datetime(closedProjects['createdAt'], format='%Y-%m-%d, %H:%M')\n",
    "closedProjects = closedProjects.loc[closedProjects.groupby('id')['createdAt'].idxmax()]\n",
    "closedProjects = closedProjects.loc[(closedProjects[\"status\"] == 'active')]\n",
    "clearRecos = recos.loc[recos['item_id'].isin(closedProjects['id'])]\n",
    "clearRecos"
   ]
  },
  {
   "cell_type": "markdown",
   "id": "24abbfe1-cd0f-4553-b94b-cc6b1328cc8f",
   "metadata": {
    "jp-MarkdownHeadingCollapsed": true
   },
   "source": [
    "### My Metrics"
   ]
  },
  {
   "cell_type": "code",
   "execution_count": 35,
   "id": "e1fa5f8b-83b5-4b85-96b2-e1db9b16d4eb",
   "metadata": {
    "scrolled": true
   },
   "outputs": [
    {
     "data": {
      "text/html": [
       "<div>\n",
       "<style scoped>\n",
       "    .dataframe tbody tr th:only-of-type {\n",
       "        vertical-align: middle;\n",
       "    }\n",
       "\n",
       "    .dataframe tbody tr th {\n",
       "        vertical-align: top;\n",
       "    }\n",
       "\n",
       "    .dataframe thead th {\n",
       "        text-align: right;\n",
       "    }\n",
       "</style>\n",
       "<table border=\"1\" class=\"dataframe\">\n",
       "  <thead>\n",
       "    <tr style=\"text-align: right;\">\n",
       "      <th></th>\n",
       "      <th>user_id</th>\n",
       "      <th>item_id</th>\n",
       "      <th>score</th>\n",
       "      <th>rank</th>\n",
       "      <th>datetime</th>\n",
       "      <th>weight</th>\n",
       "      <th>_merge</th>\n",
       "    </tr>\n",
       "  </thead>\n",
       "  <tbody>\n",
       "    <tr>\n",
       "      <th>0</th>\n",
       "      <td>802</td>\n",
       "      <td>99</td>\n",
       "      <td>0.932804</td>\n",
       "      <td>2</td>\n",
       "      <td>NaT</td>\n",
       "      <td>NaN</td>\n",
       "      <td>left_only</td>\n",
       "    </tr>\n",
       "    <tr>\n",
       "      <th>1</th>\n",
       "      <td>802</td>\n",
       "      <td>54</td>\n",
       "      <td>0.909573</td>\n",
       "      <td>3</td>\n",
       "      <td>NaT</td>\n",
       "      <td>NaN</td>\n",
       "      <td>left_only</td>\n",
       "    </tr>\n",
       "    <tr>\n",
       "      <th>2</th>\n",
       "      <td>802</td>\n",
       "      <td>92</td>\n",
       "      <td>0.908329</td>\n",
       "      <td>4</td>\n",
       "      <td>NaT</td>\n",
       "      <td>NaN</td>\n",
       "      <td>left_only</td>\n",
       "    </tr>\n",
       "    <tr>\n",
       "      <th>3</th>\n",
       "      <td>802</td>\n",
       "      <td>94</td>\n",
       "      <td>0.844778</td>\n",
       "      <td>5</td>\n",
       "      <td>NaT</td>\n",
       "      <td>NaN</td>\n",
       "      <td>left_only</td>\n",
       "    </tr>\n",
       "    <tr>\n",
       "      <th>4</th>\n",
       "      <td>802</td>\n",
       "      <td>97</td>\n",
       "      <td>0.696693</td>\n",
       "      <td>7</td>\n",
       "      <td>NaT</td>\n",
       "      <td>NaN</td>\n",
       "      <td>left_only</td>\n",
       "    </tr>\n",
       "    <tr>\n",
       "      <th>...</th>\n",
       "      <td>...</td>\n",
       "      <td>...</td>\n",
       "      <td>...</td>\n",
       "      <td>...</td>\n",
       "      <td>...</td>\n",
       "      <td>...</td>\n",
       "      <td>...</td>\n",
       "    </tr>\n",
       "    <tr>\n",
       "      <th>2573</th>\n",
       "      <td>23847</td>\n",
       "      <td>102</td>\n",
       "      <td>0.508048</td>\n",
       "      <td>4</td>\n",
       "      <td>NaT</td>\n",
       "      <td>NaN</td>\n",
       "      <td>left_only</td>\n",
       "    </tr>\n",
       "    <tr>\n",
       "      <th>2574</th>\n",
       "      <td>23847</td>\n",
       "      <td>123</td>\n",
       "      <td>0.394315</td>\n",
       "      <td>6</td>\n",
       "      <td>NaT</td>\n",
       "      <td>NaN</td>\n",
       "      <td>left_only</td>\n",
       "    </tr>\n",
       "    <tr>\n",
       "      <th>2575</th>\n",
       "      <td>23847</td>\n",
       "      <td>98</td>\n",
       "      <td>0.309956</td>\n",
       "      <td>8</td>\n",
       "      <td>NaT</td>\n",
       "      <td>NaN</td>\n",
       "      <td>left_only</td>\n",
       "    </tr>\n",
       "    <tr>\n",
       "      <th>2576</th>\n",
       "      <td>23847</td>\n",
       "      <td>100</td>\n",
       "      <td>0.284277</td>\n",
       "      <td>10</td>\n",
       "      <td>NaT</td>\n",
       "      <td>NaN</td>\n",
       "      <td>left_only</td>\n",
       "    </tr>\n",
       "    <tr>\n",
       "      <th>2577</th>\n",
       "      <td>23847</td>\n",
       "      <td>92</td>\n",
       "      <td>0.267840</td>\n",
       "      <td>13</td>\n",
       "      <td>NaT</td>\n",
       "      <td>NaN</td>\n",
       "      <td>left_only</td>\n",
       "    </tr>\n",
       "  </tbody>\n",
       "</table>\n",
       "<p>2578 rows × 7 columns</p>\n",
       "</div>"
      ],
      "text/plain": [
       "      user_id  item_id     score  rank datetime  weight     _merge\n",
       "0         802       99  0.932804     2      NaT     NaN  left_only\n",
       "1         802       54  0.909573     3      NaT     NaN  left_only\n",
       "2         802       92  0.908329     4      NaT     NaN  left_only\n",
       "3         802       94  0.844778     5      NaT     NaN  left_only\n",
       "4         802       97  0.696693     7      NaT     NaN  left_only\n",
       "...       ...      ...       ...   ...      ...     ...        ...\n",
       "2573    23847      102  0.508048     4      NaT     NaN  left_only\n",
       "2574    23847      123  0.394315     6      NaT     NaN  left_only\n",
       "2575    23847       98  0.309956     8      NaT     NaN  left_only\n",
       "2576    23847      100  0.284277    10      NaT     NaN  left_only\n",
       "2577    23847       92  0.267840    13      NaT     NaN  left_only\n",
       "\n",
       "[2578 rows x 7 columns]"
      ]
     },
     "execution_count": 35,
     "metadata": {},
     "output_type": "execute_result"
    }
   ],
   "source": [
    "merged = pd.merge(clearRecos, df_test, on=['user_id', 'item_id'], how='left', indicator=True)\n",
    "merged"
   ]
  },
  {
   "cell_type": "code",
   "execution_count": 36,
   "id": "79f3f930-eaee-4728-9cf4-843ebd614d2b",
   "metadata": {},
   "outputs": [],
   "source": [
    "# MAP\n",
    "def average_precision(recs, test_items):\n",
    "    hits = 0\n",
    "    sum_precisions = 0\n",
    "    for i, item in enumerate(recs['item_id'], start=1):\n",
    "        if item in test_items['item_id'].values:\n",
    "            hits += 1\n",
    "            precision_at_i = hits / i\n",
    "            sum_precisions += precision_at_i\n",
    "    if hits == 0:\n",
    "        return 0\n",
    "    return sum_precisions / hits"
   ]
  },
  {
   "cell_type": "code",
   "execution_count": 37,
   "id": "484ed339-c54e-43c0-aee7-63f9cbe17813",
   "metadata": {},
   "outputs": [],
   "source": [
    "def serendipity_for_user(user_recs, user_relevant, user_history):\n",
    "    serendipity_count = 0\n",
    "    for rec_item in user_recs['item_id']:\n",
    "        is_relevant = rec_item in user_relevant['item_id'].values\n",
    "        is_unexpected = rec_item not in user_history['item_id'].values\n",
    "        if is_relevant and is_unexpected:\n",
    "            serendipity_count += 1\n",
    "    return serendipity_count / len(user_recs) if len(user_recs) > 0 else 0"
   ]
  },
  {
   "cell_type": "code",
   "execution_count": 38,
   "id": "b39f1b4c-a226-41e8-bbb2-4df6c20465f6",
   "metadata": {},
   "outputs": [],
   "source": [
    "def calculate_popularity_bias(recommendations, all_data, k):\n",
    "    from collections import Counter\n",
    "    \n",
    "    all_items = [item for sublist in all_data for item in sublist]\n",
    "    item_counts = Counter(all_items)\n",
    "    total_items = len(all_items)\n",
    "    \n",
    "    recommended_items = [item for sublist in recommendations for item in sublist[:k]]\n",
    "    recommended_item_counts = Counter(recommended_items)\n",
    "    \n",
    "    recommended_item_popularity = [\n",
    "        item_counts[item] / total_items if item in item_counts else 0\n",
    "        for item in recommended_items\n",
    "    ]\n",
    "    \n",
    "    avg_popularity = sum(recommended_item_popularity) / len(recommended_item_popularity)\n",
    "    \n",
    "    return avg_popularity\n"
   ]
  },
  {
   "cell_type": "code",
   "execution_count": 39,
   "id": "7b560bf8-3d95-4cca-917e-52a00dfb6ba2",
   "metadata": {},
   "outputs": [],
   "source": [
    "def calculate_metrics(recommendations, all_data, test_data, beta=1, k=10):\n",
    "    merged = pd.merge(recommendations, test_data, on=['user_id', 'item_id'], how='left', indicator=True)\n",
    "\n",
    "    TP = merged['_merge'].value_counts().get('both', 0)\n",
    "    FP = merged['_merge'].value_counts().get('left_only', 0)\n",
    "    FN = test_data.shape[0] - TP\n",
    "    \n",
    "    # precision\n",
    "    if TP + FP == 0:\n",
    "        precision = 0\n",
    "    else:\n",
    "        precision = TP / (TP + FP)\n",
    "\n",
    "    print(\"precision:\", precision)\n",
    "    \n",
    "    # recall\n",
    "    if TP + FN == 0:\n",
    "        recall = 0\n",
    "    else:\n",
    "        recall = TP / (TP + FN)\n",
    "\n",
    "    print(\"recall:\", recall)\n",
    "    \n",
    "    # F1-score\n",
    "    if precision + recall == 0:\n",
    "        f1_score = 0\n",
    "    else:\n",
    "        f1_score = 2 * (precision * recall) / (precision + recall)\n",
    "    \n",
    "    # F1-beta\n",
    "    if precision + recall == 0:\n",
    "        f1_beta = 0\n",
    "    else:\n",
    "        f1_beta = (1 + beta**2) * (precision * recall) / (beta**2 * precision + recall)\n",
    "    \n",
    "    print(\"f1_beta:\", f1_beta)\n",
    "\n",
    "    users = recommendations['user_id'].unique()\n",
    "    ap_sum = 0\n",
    "    for user in users:\n",
    "        user_recs = recommendations[recommendations['user_id'] == user]\n",
    "        user_test = test_data[test_data['user_id'] == user]\n",
    "        ap_sum += average_precision(user_recs, user_test)\n",
    "    \n",
    "    map_score = ap_sum / len(users)\n",
    "    print(\"MAP:\", map_score)\n",
    "\n",
    "    # DCG@k\n",
    "    def dcg_at_k(recs, test_items, k):\n",
    "        dcg = 0.0\n",
    "        for i, item in enumerate(recs['item_id'][:k], start=1):\n",
    "            if item in test_items['item_id'].values:\n",
    "                dcg += 1 / np.log2(i + 1) \n",
    "        return dcg\n",
    "    \n",
    "    # IDCG@k\n",
    "    def idcg_at_k(test_items, k):\n",
    "        ideal_rel_count = min(k, len(test_items)) \n",
    "        idcg = sum([1 / np.log2(i + 1) for i in range(1, ideal_rel_count + 1)])\n",
    "        return idcg\n",
    "\n",
    "    # NDCG@k\n",
    "    ndcg_sum = 0\n",
    "    for user in users:\n",
    "        user_recs = recommendations[recommendations['user_id'] == user]\n",
    "        user_test = test_data[test_data['user_id'] == user]\n",
    "        dcg = dcg_at_k(user_recs, user_test, k)\n",
    "        idcg = idcg_at_k(user_test, k)\n",
    "        if idcg > 0:\n",
    "            ndcg = dcg / idcg\n",
    "        else:\n",
    "            ndcg = 0\n",
    "        ndcg_sum += ndcg\n",
    "\n",
    "    ndcg_at_k = ndcg_sum / len(users)\n",
    "    print(f\"NDCG@{k}:\", ndcg_at_k)\n",
    "\n",
    "    # MRR\n",
    "    def reciprocal_rank(recs, test_items):\n",
    "        for i, item in enumerate(recs['item_id'], start=1):\n",
    "            if item in test_items['item_id'].values:\n",
    "                return 1 / i\n",
    "        return 0\n",
    "\n",
    "    mrr_sum = 0\n",
    "    for user in users:\n",
    "        user_recs = recommendations[recommendations['user_id'] == user]\n",
    "        user_test = test_data[test_data['user_id'] == user]\n",
    "        mrr_sum += reciprocal_rank(user_recs, user_test)\n",
    "\n",
    "    mrr_score = mrr_sum / len(users)\n",
    "    print(\"MRR:\", mrr_score)\n",
    "\n",
    "    # Novelty\n",
    "    item_popularity = all_data['item_id'].value_counts()\n",
    "    max_popularity = item_popularity.max()\n",
    "\n",
    "    def novelty(item, max_popularity, item_popularity):\n",
    "        popularity = item_popularity.get(item, 0)\n",
    "        return 1 - (popularity / max_popularity)\n",
    "\n",
    "    novelty_sum = 0\n",
    "    for user in users:\n",
    "        user_recs = recommendations[recommendations['user_id'] == user]\n",
    "        novelty_user_sum = user_recs['item_id'].apply(lambda item: novelty(item, max_popularity, item_popularity)).sum()\n",
    "        novelty_sum += novelty_user_sum / len(user_recs)\n",
    "\n",
    "    novelty_score = novelty_sum / len(users)\n",
    "    print(\"Novelty:\", novelty_score)\n",
    "\n",
    "    serendipity_sum = 0\n",
    "    temporal_diversity_sum = 0\n",
    "    users = recommendations['user_id'].unique()\n",
    "    \n",
    "    for user in users:\n",
    "        user_recs = recommendations[recommendations['user_id'] == user].head(k)\n",
    "        user_relevant = test_data[test_data['user_id'] == user]\n",
    "        user_history = all_data[(all_data['user_id'] == user) & (all_data['item_id'].isin(test_data['item_id']) == False)]\n",
    "        serendipity_sum += serendipity_for_user(user_recs, user_relevant, user_history)\n",
    "        \n",
    "    \n",
    "    serendipity_score = serendipity_sum / len(users) if len(users) > 0 else 0\n",
    "    print(\"Serendipity:\", serendipity_score)\n",
    "\n",
    "    # item coverage\n",
    "    all_items = all_data['item_id'].unique()\n",
    "    recommended_items = recommendations['item_id'].unique()\n",
    "    item_coverage = len(recommended_items) / len(all_items) if len(all_items) > 0 else 0\n",
    "    print(\"Item Coverage:\", item_coverage)\n",
    "\n",
    "    # User coverage\n",
    "    # total_users = all_data['user_id'].unique()\n",
    "    # recommended_users = recommendations['user_id'].unique()\n",
    "    # user_coverage = len(recommended_users) / len(total_users) if len(total_users) > 0 else 0\n",
    "    # print(\"User Coverage:\", user_coverage)\n",
    "    \n",
    "    popularity_bias = calculate_popularity_bias(recommendations, all_data, k)\n",
    "    print(\"popularity_bias:\", popularity_bias)\n",
    "    \n",
    "    pass"
   ]
  },
  {
   "cell_type": "code",
   "execution_count": 40,
   "id": "157a641f-4dc9-4b32-be94-20080163e10f",
   "metadata": {},
   "outputs": [
    {
     "name": "stdout",
     "output_type": "stream",
     "text": [
      "precision: 0.0008652390222799049\n",
      "recall: 0.0014903129657228018\n",
      "f1_beta: 0.0010948405638428905\n",
      "MAP: 0.0008116883116883117\n",
      "NDCG@10: 0.00030775442977126874\n",
      "MRR: 0.0008116883116883117\n",
      "Novelty: 0.6996055273229184\n",
      "Serendipity: 0.0003246753246753247\n",
      "Item Coverage: 0.7927927927927928\n",
      "popularity_bias: 0.08229813664596275\n"
     ]
    }
   ],
   "source": [
    "calculate_metrics(recos, data, df_test)"
   ]
  },
  {
   "cell_type": "markdown",
   "id": "c218e2db-ef83-4d03-b3a9-8d3af869f361",
   "metadata": {
    "jp-MarkdownHeadingCollapsed": true
   },
   "source": [
    "### RecTools Metrics"
   ]
  },
  {
   "cell_type": "code",
   "execution_count": 27,
   "id": "087b7806-5b86-42b4-8227-335f13740600",
   "metadata": {},
   "outputs": [
    {
     "name": "stdout",
     "output_type": "stream",
     "text": [
      "precision: 0.010126582278481013\n",
      "recall: 0.0019856043683296105\n"
     ]
    }
   ],
   "source": [
    "precision = Precision(k=10)\n",
    "recall = Recall(k=10)\n",
    "f1 = F1Beta(k=10)\n",
    "\n",
    "precision_value = precision.calc(reco=recos, interactions=df_test)\n",
    "print(f\"precision: {precision_value}\")\n",
    "\n",
    "recall_value = recall.calc(reco=recos, interactions=df_test)\n",
    "print(f\"recall: {recall_value}\")\n"
   ]
  },
  {
   "cell_type": "code",
   "execution_count": 27,
   "id": "4d102c65-b10d-4c52-b89a-5bee38a563fb",
   "metadata": {},
   "outputs": [],
   "source": [
    "n_splits = 3\n",
    "\n",
    "splitter = TimeRangeSplitter(\n",
    "    test_size=\"30D\",\n",
    "    n_splits=n_splits,\n",
    "    filter_already_seen=True,\n",
    "    filter_cold_items=True,\n",
    "    filter_cold_users=True,\n",
    ")"
   ]
  },
  {
   "cell_type": "code",
   "execution_count": 28,
   "id": "9fe2d960-cd19-4c15-a52e-8efcd430c3b4",
   "metadata": {},
   "outputs": [
    {
     "data": {
      "text/plain": [
       "[(Timestamp('2024-03-22 00:00:00', freq='30D'),\n",
       "  Timestamp('2024-04-21 00:00:00', freq='30D')),\n",
       " (Timestamp('2024-04-21 00:00:00', freq='30D'),\n",
       "  Timestamp('2024-05-21 00:00:00', freq='30D')),\n",
       " (Timestamp('2024-05-21 00:00:00', freq='30D'),\n",
       "  Timestamp('2024-06-20 00:00:00', freq='30D'))]"
      ]
     },
     "execution_count": 28,
     "metadata": {},
     "output_type": "execute_result"
    }
   ],
   "source": [
    "splitter.get_test_fold_borders(dataset_full_features.interactions)"
   ]
  },
  {
   "cell_type": "code",
   "execution_count": 29,
   "id": "3d0fcbe9-020f-4227-9950-bd86e1d8df22",
   "metadata": {},
   "outputs": [],
   "source": [
    "# Take few simple models to compare\n",
    "models = {\n",
    "    \"random\": RandomModel(random_state=42),\n",
    "    \"popular\": PopularModel(),\n",
    "    \"most_raited\": PopularModel(popularity=\"sum_weight\"),\n",
    "    \"tfidf_k=5\": ImplicitItemKNNWrapperModel(model=TFIDFRecommender(K=5)),\n",
    "    \"tfidf_k=10\": ImplicitItemKNNWrapperModel(model=TFIDFRecommender(K=10)),\n",
    "    \"bm25_k=5_k1=0.05_b=0.1\": ImplicitItemKNNWrapperModel(model=BM25Recommender(K=5, K1=0.05, B=0.1)),\n",
    "    \"Implicit ALS\": ImplicitALSWrapperModel(AlternatingLeastSquares(10, num_threads=32))\n",
    "}"
   ]
  },
  {
   "cell_type": "code",
   "execution_count": 30,
   "id": "d8154570-3976-4152-916b-b7a8bb0ee240",
   "metadata": {},
   "outputs": [],
   "source": [
    "metrics = {\n",
    "    \"prec@1\": Precision(k=1),\n",
    "    \"prec@10\": Precision(k=10),\n",
    "    'Serendipity@1': Serendipity(k=1),\n",
    "    'Serendipity@5': Serendipity(k=5),\n",
    "    'Serendipity@10': Serendipity(k=10),\n",
    "    'MIUF@1': MeanInvUserFreq(k=1),\n",
    "    'MIUF@5': MeanInvUserFreq(k=5),\n",
    "    'MIUF@10': MeanInvUserFreq(k=10),\n",
    "    'MAP@1': MAP(k=1),\n",
    "    'MAP@5': MAP(k=5),\n",
    "    'MAP@10': MAP(k=10),\n",
    "    \"recall\": Recall(k=10),\n",
    "    \"MCC\": MCC(k=10),\n",
    "    \"MRR\": MRR(k=10),\n",
    "    \"F1Beta\": F1Beta(k=10)\n",
    "}\n",
    "\n",
    "K_RECS = 10"
   ]
  },
  {
   "cell_type": "code",
   "execution_count": 32,
   "id": "bdb413d9-9d8a-42ba-91cb-e809d8e77c1e",
   "metadata": {},
   "outputs": [
    {
     "name": "stderr",
     "output_type": "stream",
     "text": [
      "C:\\Anaconda\\envs\\py38\\lib\\site-packages\\rectools\\dataset\\features.py:420: UserWarning: Converting sparse features to dense array may cause MemoryError\n",
      "  warnings.warn(\"Converting sparse features to dense array may cause MemoryError\")\n",
      "100%|██████████| 1/1 [00:00<00:00, 109.32it/s]\n",
      "100%|██████████| 1/1 [00:35<00:00, 35.47s/it]\n",
      "C:\\Anaconda\\envs\\py38\\lib\\site-packages\\rectools\\dataset\\features.py:420: UserWarning: Converting sparse features to dense array may cause MemoryError\n",
      "  warnings.warn(\"Converting sparse features to dense array may cause MemoryError\")\n",
      "100%|██████████| 1/1 [00:00<00:00, 31.59it/s]\n",
      "100%|██████████| 1/1 [00:38<00:00, 38.42s/it]\n",
      "C:\\Anaconda\\envs\\py38\\lib\\site-packages\\rectools\\dataset\\features.py:420: UserWarning: Converting sparse features to dense array may cause MemoryError\n",
      "  warnings.warn(\"Converting sparse features to dense array may cause MemoryError\")\n",
      "100%|██████████| 1/1 [00:00<00:00, 94.98it/s]\n",
      "100%|██████████| 1/1 [00:39<00:00, 39.60s/it]"
     ]
    },
    {
     "name": "stdout",
     "output_type": "stream",
     "text": [
      "CPU times: total: 12min 20s\n",
      "Wall time: 1min 56s\n"
     ]
    },
    {
     "name": "stderr",
     "output_type": "stream",
     "text": [
      "\n"
     ]
    }
   ],
   "source": [
    "%%time\n",
    "\n",
    "# For each fold generate train and test part of dataset\n",
    "# Then fit every model, generate recommendations and calculate metrics\n",
    "\n",
    "cv_results = cross_validate(\n",
    "    dataset=dataset_full_features,\n",
    "    splitter=splitter,\n",
    "    models=models,\n",
    "    metrics=metrics,\n",
    "    k=K_RECS,\n",
    "    filter_viewed=True,\n",
    ")"
   ]
  },
  {
   "cell_type": "code",
   "execution_count": 33,
   "id": "90fc68b7-e95d-42ce-9d1c-d456e206c242",
   "metadata": {},
   "outputs": [
    {
     "data": {
      "text/html": [
       "<style type=\"text/css\">\n",
       "#T_aeb15_row0_col2, #T_aeb15_row0_col4, #T_aeb15_row0_col6, #T_aeb15_row0_col8, #T_aeb15_row0_col10, #T_aeb15_row0_col14, #T_aeb15_row0_col16, #T_aeb15_row1_col18, #T_aeb15_row1_col20, #T_aeb15_row1_col22, #T_aeb15_row2_col24, #T_aeb15_row2_col26, #T_aeb15_row2_col28, #T_aeb15_row4_col0, #T_aeb15_row4_col12 {\n",
       "  background-color: lightcoral;\n",
       "}\n",
       "#T_aeb15_row0_col18, #T_aeb15_row0_col20, #T_aeb15_row0_col22, #T_aeb15_row3_col4, #T_aeb15_row5_col0, #T_aeb15_row5_col10, #T_aeb15_row5_col12, #T_aeb15_row5_col14, #T_aeb15_row5_col16, #T_aeb15_row6_col2, #T_aeb15_row6_col6, #T_aeb15_row6_col8, #T_aeb15_row6_col24, #T_aeb15_row6_col26, #T_aeb15_row6_col28 {\n",
       "  background-color: lightgreen;\n",
       "}\n",
       "</style>\n",
       "<table id=\"T_aeb15\">\n",
       "  <thead>\n",
       "    <tr>\n",
       "      <th class=\"blank level0\" >&nbsp;</th>\n",
       "      <th id=\"T_aeb15_level0_col0\" class=\"col_heading level0 col0\" colspan=\"2\">prec@1</th>\n",
       "      <th id=\"T_aeb15_level0_col2\" class=\"col_heading level0 col2\" colspan=\"2\">prec@10</th>\n",
       "      <th id=\"T_aeb15_level0_col4\" class=\"col_heading level0 col4\" colspan=\"2\">recall</th>\n",
       "      <th id=\"T_aeb15_level0_col6\" class=\"col_heading level0 col6\" colspan=\"2\">MCC</th>\n",
       "      <th id=\"T_aeb15_level0_col8\" class=\"col_heading level0 col8\" colspan=\"2\">F1Beta</th>\n",
       "      <th id=\"T_aeb15_level0_col10\" class=\"col_heading level0 col10\" colspan=\"2\">MRR</th>\n",
       "      <th id=\"T_aeb15_level0_col12\" class=\"col_heading level0 col12\" colspan=\"2\">MAP@1</th>\n",
       "      <th id=\"T_aeb15_level0_col14\" class=\"col_heading level0 col14\" colspan=\"2\">MAP@5</th>\n",
       "      <th id=\"T_aeb15_level0_col16\" class=\"col_heading level0 col16\" colspan=\"2\">MAP@10</th>\n",
       "      <th id=\"T_aeb15_level0_col18\" class=\"col_heading level0 col18\" colspan=\"2\">MIUF@1</th>\n",
       "      <th id=\"T_aeb15_level0_col20\" class=\"col_heading level0 col20\" colspan=\"2\">MIUF@5</th>\n",
       "      <th id=\"T_aeb15_level0_col22\" class=\"col_heading level0 col22\" colspan=\"2\">MIUF@10</th>\n",
       "      <th id=\"T_aeb15_level0_col24\" class=\"col_heading level0 col24\" colspan=\"2\">Serendipity@1</th>\n",
       "      <th id=\"T_aeb15_level0_col26\" class=\"col_heading level0 col26\" colspan=\"2\">Serendipity@5</th>\n",
       "      <th id=\"T_aeb15_level0_col28\" class=\"col_heading level0 col28\" colspan=\"2\">Serendipity@10</th>\n",
       "    </tr>\n",
       "    <tr>\n",
       "      <th class=\"blank level1\" >&nbsp;</th>\n",
       "      <th id=\"T_aeb15_level1_col0\" class=\"col_heading level1 col0\" >mean</th>\n",
       "      <th id=\"T_aeb15_level1_col1\" class=\"col_heading level1 col1\" >std</th>\n",
       "      <th id=\"T_aeb15_level1_col2\" class=\"col_heading level1 col2\" >mean</th>\n",
       "      <th id=\"T_aeb15_level1_col3\" class=\"col_heading level1 col3\" >std</th>\n",
       "      <th id=\"T_aeb15_level1_col4\" class=\"col_heading level1 col4\" >mean</th>\n",
       "      <th id=\"T_aeb15_level1_col5\" class=\"col_heading level1 col5\" >std</th>\n",
       "      <th id=\"T_aeb15_level1_col6\" class=\"col_heading level1 col6\" >mean</th>\n",
       "      <th id=\"T_aeb15_level1_col7\" class=\"col_heading level1 col7\" >std</th>\n",
       "      <th id=\"T_aeb15_level1_col8\" class=\"col_heading level1 col8\" >mean</th>\n",
       "      <th id=\"T_aeb15_level1_col9\" class=\"col_heading level1 col9\" >std</th>\n",
       "      <th id=\"T_aeb15_level1_col10\" class=\"col_heading level1 col10\" >mean</th>\n",
       "      <th id=\"T_aeb15_level1_col11\" class=\"col_heading level1 col11\" >std</th>\n",
       "      <th id=\"T_aeb15_level1_col12\" class=\"col_heading level1 col12\" >mean</th>\n",
       "      <th id=\"T_aeb15_level1_col13\" class=\"col_heading level1 col13\" >std</th>\n",
       "      <th id=\"T_aeb15_level1_col14\" class=\"col_heading level1 col14\" >mean</th>\n",
       "      <th id=\"T_aeb15_level1_col15\" class=\"col_heading level1 col15\" >std</th>\n",
       "      <th id=\"T_aeb15_level1_col16\" class=\"col_heading level1 col16\" >mean</th>\n",
       "      <th id=\"T_aeb15_level1_col17\" class=\"col_heading level1 col17\" >std</th>\n",
       "      <th id=\"T_aeb15_level1_col18\" class=\"col_heading level1 col18\" >mean</th>\n",
       "      <th id=\"T_aeb15_level1_col19\" class=\"col_heading level1 col19\" >std</th>\n",
       "      <th id=\"T_aeb15_level1_col20\" class=\"col_heading level1 col20\" >mean</th>\n",
       "      <th id=\"T_aeb15_level1_col21\" class=\"col_heading level1 col21\" >std</th>\n",
       "      <th id=\"T_aeb15_level1_col22\" class=\"col_heading level1 col22\" >mean</th>\n",
       "      <th id=\"T_aeb15_level1_col23\" class=\"col_heading level1 col23\" >std</th>\n",
       "      <th id=\"T_aeb15_level1_col24\" class=\"col_heading level1 col24\" >mean</th>\n",
       "      <th id=\"T_aeb15_level1_col25\" class=\"col_heading level1 col25\" >std</th>\n",
       "      <th id=\"T_aeb15_level1_col26\" class=\"col_heading level1 col26\" >mean</th>\n",
       "      <th id=\"T_aeb15_level1_col27\" class=\"col_heading level1 col27\" >std</th>\n",
       "      <th id=\"T_aeb15_level1_col28\" class=\"col_heading level1 col28\" >mean</th>\n",
       "      <th id=\"T_aeb15_level1_col29\" class=\"col_heading level1 col29\" >std</th>\n",
       "    </tr>\n",
       "    <tr>\n",
       "      <th class=\"index_name level0\" >model</th>\n",
       "      <th class=\"blank col0\" >&nbsp;</th>\n",
       "      <th class=\"blank col1\" >&nbsp;</th>\n",
       "      <th class=\"blank col2\" >&nbsp;</th>\n",
       "      <th class=\"blank col3\" >&nbsp;</th>\n",
       "      <th class=\"blank col4\" >&nbsp;</th>\n",
       "      <th class=\"blank col5\" >&nbsp;</th>\n",
       "      <th class=\"blank col6\" >&nbsp;</th>\n",
       "      <th class=\"blank col7\" >&nbsp;</th>\n",
       "      <th class=\"blank col8\" >&nbsp;</th>\n",
       "      <th class=\"blank col9\" >&nbsp;</th>\n",
       "      <th class=\"blank col10\" >&nbsp;</th>\n",
       "      <th class=\"blank col11\" >&nbsp;</th>\n",
       "      <th class=\"blank col12\" >&nbsp;</th>\n",
       "      <th class=\"blank col13\" >&nbsp;</th>\n",
       "      <th class=\"blank col14\" >&nbsp;</th>\n",
       "      <th class=\"blank col15\" >&nbsp;</th>\n",
       "      <th class=\"blank col16\" >&nbsp;</th>\n",
       "      <th class=\"blank col17\" >&nbsp;</th>\n",
       "      <th class=\"blank col18\" >&nbsp;</th>\n",
       "      <th class=\"blank col19\" >&nbsp;</th>\n",
       "      <th class=\"blank col20\" >&nbsp;</th>\n",
       "      <th class=\"blank col21\" >&nbsp;</th>\n",
       "      <th class=\"blank col22\" >&nbsp;</th>\n",
       "      <th class=\"blank col23\" >&nbsp;</th>\n",
       "      <th class=\"blank col24\" >&nbsp;</th>\n",
       "      <th class=\"blank col25\" >&nbsp;</th>\n",
       "      <th class=\"blank col26\" >&nbsp;</th>\n",
       "      <th class=\"blank col27\" >&nbsp;</th>\n",
       "      <th class=\"blank col28\" >&nbsp;</th>\n",
       "      <th class=\"blank col29\" >&nbsp;</th>\n",
       "    </tr>\n",
       "  </thead>\n",
       "  <tbody>\n",
       "    <tr>\n",
       "      <th id=\"T_aeb15_level0_row0\" class=\"row_heading level0 row0\" >random</th>\n",
       "      <td id=\"T_aeb15_row0_col0\" class=\"data row0 col0\" >0.363636</td>\n",
       "      <td id=\"T_aeb15_row0_col1\" class=\"data row0 col1\" >0.629837</td>\n",
       "      <td id=\"T_aeb15_row0_col2\" class=\"data row0 col2\" >0.163636</td>\n",
       "      <td id=\"T_aeb15_row0_col3\" class=\"data row0 col3\" >0.112021</td>\n",
       "      <td id=\"T_aeb15_row0_col4\" class=\"data row0 col4\" >0.204894</td>\n",
       "      <td id=\"T_aeb15_row0_col5\" class=\"data row0 col5\" >0.122498</td>\n",
       "      <td id=\"T_aeb15_row0_col6\" class=\"data row0 col6\" >0.028639</td>\n",
       "      <td id=\"T_aeb15_row0_col7\" class=\"data row0 col7\" >0.090059</td>\n",
       "      <td id=\"T_aeb15_row0_col8\" class=\"data row0 col8\" >0.142907</td>\n",
       "      <td id=\"T_aeb15_row0_col9\" class=\"data row0 col9\" >0.068761</td>\n",
       "      <td id=\"T_aeb15_row0_col10\" class=\"data row0 col10\" >0.106902</td>\n",
       "      <td id=\"T_aeb15_row0_col11\" class=\"data row0 col11\" >0.063414</td>\n",
       "      <td id=\"T_aeb15_row0_col12\" class=\"data row0 col12\" >0.030303</td>\n",
       "      <td id=\"T_aeb15_row0_col13\" class=\"data row0 col13\" >0.052486</td>\n",
       "      <td id=\"T_aeb15_row0_col14\" class=\"data row0 col14\" >0.043124</td>\n",
       "      <td id=\"T_aeb15_row0_col15\" class=\"data row0 col15\" >0.047364</td>\n",
       "      <td id=\"T_aeb15_row0_col16\" class=\"data row0 col16\" >0.062232</td>\n",
       "      <td id=\"T_aeb15_row0_col17\" class=\"data row0 col17\" >0.045724</td>\n",
       "      <td id=\"T_aeb15_row0_col18\" class=\"data row0 col18\" >5.216897</td>\n",
       "      <td id=\"T_aeb15_row0_col19\" class=\"data row0 col19\" >0.292492</td>\n",
       "      <td id=\"T_aeb15_row0_col20\" class=\"data row0 col20\" >5.346545</td>\n",
       "      <td id=\"T_aeb15_row0_col21\" class=\"data row0 col21\" >0.051009</td>\n",
       "      <td id=\"T_aeb15_row0_col22\" class=\"data row0 col22\" >5.209761</td>\n",
       "      <td id=\"T_aeb15_row0_col23\" class=\"data row0 col23\" >0.030083</td>\n",
       "      <td id=\"T_aeb15_row0_col24\" class=\"data row0 col24\" >0.013034</td>\n",
       "      <td id=\"T_aeb15_row0_col25\" class=\"data row0 col25\" >0.022575</td>\n",
       "      <td id=\"T_aeb15_row0_col26\" class=\"data row0 col26\" >0.017697</td>\n",
       "      <td id=\"T_aeb15_row0_col27\" class=\"data row0 col27\" >0.015861</td>\n",
       "      <td id=\"T_aeb15_row0_col28\" class=\"data row0 col28\" >0.025364</td>\n",
       "      <td id=\"T_aeb15_row0_col29\" class=\"data row0 col29\" >0.012744</td>\n",
       "    </tr>\n",
       "    <tr>\n",
       "      <th id=\"T_aeb15_level0_row1\" class=\"row_heading level0 row1\" >popular</th>\n",
       "      <td id=\"T_aeb15_row1_col0\" class=\"data row1 col0\" >0.927273</td>\n",
       "      <td id=\"T_aeb15_row1_col1\" class=\"data row1 col1\" >0.220443</td>\n",
       "      <td id=\"T_aeb15_row1_col2\" class=\"data row1 col2\" >0.350303</td>\n",
       "      <td id=\"T_aeb15_row1_col3\" class=\"data row1 col3\" >0.170961</td>\n",
       "      <td id=\"T_aeb15_row1_col4\" class=\"data row1 col4\" >0.298184</td>\n",
       "      <td id=\"T_aeb15_row1_col5\" class=\"data row1 col5\" >0.121521</td>\n",
       "      <td id=\"T_aeb15_row1_col6\" class=\"data row1 col6\" >0.197531</td>\n",
       "      <td id=\"T_aeb15_row1_col7\" class=\"data row1 col7\" >0.031709</td>\n",
       "      <td id=\"T_aeb15_row1_col8\" class=\"data row1 col8\" >0.256082</td>\n",
       "      <td id=\"T_aeb15_row1_col9\" class=\"data row1 col9\" >0.069804</td>\n",
       "      <td id=\"T_aeb15_row1_col10\" class=\"data row1 col10\" >0.301804</td>\n",
       "      <td id=\"T_aeb15_row1_col11\" class=\"data row1 col11\" >0.128465</td>\n",
       "      <td id=\"T_aeb15_row1_col12\" class=\"data row1 col12\" >0.090646</td>\n",
       "      <td id=\"T_aeb15_row1_col13\" class=\"data row1 col13\" >0.095082</td>\n",
       "      <td id=\"T_aeb15_row1_col14\" class=\"data row1 col14\" >0.143337</td>\n",
       "      <td id=\"T_aeb15_row1_col15\" class=\"data row1 col15\" >0.068411</td>\n",
       "      <td id=\"T_aeb15_row1_col16\" class=\"data row1 col16\" >0.164661</td>\n",
       "      <td id=\"T_aeb15_row1_col17\" class=\"data row1 col17\" >0.076973</td>\n",
       "      <td id=\"T_aeb15_row1_col18\" class=\"data row1 col18\" >2.095299</td>\n",
       "      <td id=\"T_aeb15_row1_col19\" class=\"data row1 col19\" >0.047705</td>\n",
       "      <td id=\"T_aeb15_row1_col20\" class=\"data row1 col20\" >2.425977</td>\n",
       "      <td id=\"T_aeb15_row1_col21\" class=\"data row1 col21\" >0.067415</td>\n",
       "      <td id=\"T_aeb15_row1_col22\" class=\"data row1 col22\" >2.590220</td>\n",
       "      <td id=\"T_aeb15_row1_col23\" class=\"data row1 col23\" >0.094080</td>\n",
       "      <td id=\"T_aeb15_row1_col24\" class=\"data row1 col24\" >0.006256</td>\n",
       "      <td id=\"T_aeb15_row1_col25\" class=\"data row1 col25\" >0.000339</td>\n",
       "      <td id=\"T_aeb15_row1_col26\" class=\"data row1 col26\" >0.012649</td>\n",
       "      <td id=\"T_aeb15_row1_col27\" class=\"data row1 col27\" >0.011537</td>\n",
       "      <td id=\"T_aeb15_row1_col28\" class=\"data row1 col28\" >0.009891</td>\n",
       "      <td id=\"T_aeb15_row1_col29\" class=\"data row1 col29\" >0.004760</td>\n",
       "    </tr>\n",
       "    <tr>\n",
       "      <th id=\"T_aeb15_level0_row2\" class=\"row_heading level0 row2\" >most_raited</th>\n",
       "      <td id=\"T_aeb15_row2_col0\" class=\"data row2 col0\" >0.121212</td>\n",
       "      <td id=\"T_aeb15_row2_col1\" class=\"data row2 col1\" >0.209946</td>\n",
       "      <td id=\"T_aeb15_row2_col2\" class=\"data row2 col2\" >0.383030</td>\n",
       "      <td id=\"T_aeb15_row2_col3\" class=\"data row2 col3\" >0.299561</td>\n",
       "      <td id=\"T_aeb15_row2_col4\" class=\"data row2 col4\" >0.286834</td>\n",
       "      <td id=\"T_aeb15_row2_col5\" class=\"data row2 col5\" >0.086472</td>\n",
       "      <td id=\"T_aeb15_row2_col6\" class=\"data row2 col6\" >0.210910</td>\n",
       "      <td id=\"T_aeb15_row2_col7\" class=\"data row2 col7\" >0.148879</td>\n",
       "      <td id=\"T_aeb15_row2_col8\" class=\"data row2 col8\" >0.259765</td>\n",
       "      <td id=\"T_aeb15_row2_col9\" class=\"data row2 col9\" >0.099564</td>\n",
       "      <td id=\"T_aeb15_row2_col10\" class=\"data row2 col10\" >0.212710</td>\n",
       "      <td id=\"T_aeb15_row2_col11\" class=\"data row2 col11\" >0.112557</td>\n",
       "      <td id=\"T_aeb15_row2_col12\" class=\"data row2 col12\" >0.001955</td>\n",
       "      <td id=\"T_aeb15_row2_col13\" class=\"data row2 col13\" >0.003386</td>\n",
       "      <td id=\"T_aeb15_row2_col14\" class=\"data row2 col14\" >0.059733</td>\n",
       "      <td id=\"T_aeb15_row2_col15\" class=\"data row2 col15\" >0.008822</td>\n",
       "      <td id=\"T_aeb15_row2_col16\" class=\"data row2 col16\" >0.088667</td>\n",
       "      <td id=\"T_aeb15_row2_col17\" class=\"data row2 col17\" >0.026610</td>\n",
       "      <td id=\"T_aeb15_row2_col18\" class=\"data row2 col18\" >2.516142</td>\n",
       "      <td id=\"T_aeb15_row2_col19\" class=\"data row2 col19\" >0.045108</td>\n",
       "      <td id=\"T_aeb15_row2_col20\" class=\"data row2 col20\" >2.461061</td>\n",
       "      <td id=\"T_aeb15_row2_col21\" class=\"data row2 col21\" >0.084989</td>\n",
       "      <td id=\"T_aeb15_row2_col22\" class=\"data row2 col22\" >2.675248</td>\n",
       "      <td id=\"T_aeb15_row2_col23\" class=\"data row2 col23\" >0.100988</td>\n",
       "      <td id=\"T_aeb15_row2_col24\" class=\"data row2 col24\" >0.000326</td>\n",
       "      <td id=\"T_aeb15_row2_col25\" class=\"data row2 col25\" >0.000564</td>\n",
       "      <td id=\"T_aeb15_row2_col26\" class=\"data row2 col26\" >0.001574</td>\n",
       "      <td id=\"T_aeb15_row2_col27\" class=\"data row2 col27\" >0.001379</td>\n",
       "      <td id=\"T_aeb15_row2_col28\" class=\"data row2 col28\" >0.004538</td>\n",
       "      <td id=\"T_aeb15_row2_col29\" class=\"data row2 col29\" >0.002402</td>\n",
       "    </tr>\n",
       "    <tr>\n",
       "      <th id=\"T_aeb15_level0_row3\" class=\"row_heading level0 row3\" >tfidf_k=5</th>\n",
       "      <td id=\"T_aeb15_row3_col0\" class=\"data row3 col0\" >0.121212</td>\n",
       "      <td id=\"T_aeb15_row3_col1\" class=\"data row3 col1\" >0.209946</td>\n",
       "      <td id=\"T_aeb15_row3_col2\" class=\"data row3 col2\" >0.454545</td>\n",
       "      <td id=\"T_aeb15_row3_col3\" class=\"data row3 col3\" >0.230135</td>\n",
       "      <td id=\"T_aeb15_row3_col4\" class=\"data row3 col4\" >0.387490</td>\n",
       "      <td id=\"T_aeb15_row3_col5\" class=\"data row3 col5\" >0.128655</td>\n",
       "      <td id=\"T_aeb15_row3_col6\" class=\"data row3 col6\" >0.293111</td>\n",
       "      <td id=\"T_aeb15_row3_col7\" class=\"data row3 col7\" >0.048290</td>\n",
       "      <td id=\"T_aeb15_row3_col8\" class=\"data row3 col8\" >0.297883</td>\n",
       "      <td id=\"T_aeb15_row3_col9\" class=\"data row3 col9\" >0.006233</td>\n",
       "      <td id=\"T_aeb15_row3_col10\" class=\"data row3 col10\" >0.205159</td>\n",
       "      <td id=\"T_aeb15_row3_col11\" class=\"data row3 col11\" >0.081999</td>\n",
       "      <td id=\"T_aeb15_row3_col12\" class=\"data row3 col12\" >0.031281</td>\n",
       "      <td id=\"T_aeb15_row3_col13\" class=\"data row3 col13\" >0.054179</td>\n",
       "      <td id=\"T_aeb15_row3_col14\" class=\"data row3 col14\" >0.099960</td>\n",
       "      <td id=\"T_aeb15_row3_col15\" class=\"data row3 col15\" >0.065848</td>\n",
       "      <td id=\"T_aeb15_row3_col16\" class=\"data row3 col16\" >0.135228</td>\n",
       "      <td id=\"T_aeb15_row3_col17\" class=\"data row3 col17\" >0.074419</td>\n",
       "      <td id=\"T_aeb15_row3_col18\" class=\"data row3 col18\" >3.931074</td>\n",
       "      <td id=\"T_aeb15_row3_col19\" class=\"data row3 col19\" >0.197204</td>\n",
       "      <td id=\"T_aeb15_row3_col20\" class=\"data row3 col20\" >3.725686</td>\n",
       "      <td id=\"T_aeb15_row3_col21\" class=\"data row3 col21\" >0.140715</td>\n",
       "      <td id=\"T_aeb15_row3_col22\" class=\"data row3 col22\" >3.852167</td>\n",
       "      <td id=\"T_aeb15_row3_col23\" class=\"data row3 col23\" >0.028074</td>\n",
       "      <td id=\"T_aeb15_row3_col24\" class=\"data row3 col24\" >0.011730</td>\n",
       "      <td id=\"T_aeb15_row3_col25\" class=\"data row3 col25\" >0.020317</td>\n",
       "      <td id=\"T_aeb15_row3_col26\" class=\"data row3 col26\" >0.026199</td>\n",
       "      <td id=\"T_aeb15_row3_col27\" class=\"data row3 col27\" >0.021869</td>\n",
       "      <td id=\"T_aeb15_row3_col28\" class=\"data row3 col28\" >0.044131</td>\n",
       "      <td id=\"T_aeb15_row3_col29\" class=\"data row3 col29\" >0.036819</td>\n",
       "    </tr>\n",
       "    <tr>\n",
       "      <th id=\"T_aeb15_level0_row4\" class=\"row_heading level0 row4\" >tfidf_k=10</th>\n",
       "      <td id=\"T_aeb15_row4_col0\" class=\"data row4 col0\" >0.060606</td>\n",
       "      <td id=\"T_aeb15_row4_col1\" class=\"data row4 col1\" >0.104973</td>\n",
       "      <td id=\"T_aeb15_row4_col2\" class=\"data row4 col2\" >0.486667</td>\n",
       "      <td id=\"T_aeb15_row4_col3\" class=\"data row4 col3\" >0.456216</td>\n",
       "      <td id=\"T_aeb15_row4_col4\" class=\"data row4 col4\" >0.305670</td>\n",
       "      <td id=\"T_aeb15_row4_col5\" class=\"data row4 col5\" >0.108695</td>\n",
       "      <td id=\"T_aeb15_row4_col6\" class=\"data row4 col6\" >0.276776</td>\n",
       "      <td id=\"T_aeb15_row4_col7\" class=\"data row4 col7\" >0.289083</td>\n",
       "      <td id=\"T_aeb15_row4_col8\" class=\"data row4 col8\" >0.274746</td>\n",
       "      <td id=\"T_aeb15_row4_col9\" class=\"data row4 col9\" >0.207849</td>\n",
       "      <td id=\"T_aeb15_row4_col10\" class=\"data row4 col10\" >0.172559</td>\n",
       "      <td id=\"T_aeb15_row4_col11\" class=\"data row4 col11\" >0.104210</td>\n",
       "      <td id=\"T_aeb15_row4_col12\" class=\"data row4 col12\" >0.000978</td>\n",
       "      <td id=\"T_aeb15_row4_col13\" class=\"data row4 col13\" >0.001693</td>\n",
       "      <td id=\"T_aeb15_row4_col14\" class=\"data row4 col14\" >0.083715</td>\n",
       "      <td id=\"T_aeb15_row4_col15\" class=\"data row4 col15\" >0.029740</td>\n",
       "      <td id=\"T_aeb15_row4_col16\" class=\"data row4 col16\" >0.112735</td>\n",
       "      <td id=\"T_aeb15_row4_col17\" class=\"data row4 col17\" >0.047993</td>\n",
       "      <td id=\"T_aeb15_row4_col18\" class=\"data row4 col18\" >3.854695</td>\n",
       "      <td id=\"T_aeb15_row4_col19\" class=\"data row4 col19\" >0.196202</td>\n",
       "      <td id=\"T_aeb15_row4_col20\" class=\"data row4 col20\" >3.740356</td>\n",
       "      <td id=\"T_aeb15_row4_col21\" class=\"data row4 col21\" >0.079405</td>\n",
       "      <td id=\"T_aeb15_row4_col22\" class=\"data row4 col22\" >3.795861</td>\n",
       "      <td id=\"T_aeb15_row4_col23\" class=\"data row4 col23\" >0.128445</td>\n",
       "      <td id=\"T_aeb15_row4_col24\" class=\"data row4 col24\" >0.002281</td>\n",
       "      <td id=\"T_aeb15_row4_col25\" class=\"data row4 col25\" >0.003951</td>\n",
       "      <td id=\"T_aeb15_row4_col26\" class=\"data row4 col26\" >0.042530</td>\n",
       "      <td id=\"T_aeb15_row4_col27\" class=\"data row4 col27\" >0.063421</td>\n",
       "      <td id=\"T_aeb15_row4_col28\" class=\"data row4 col28\" >0.044690</td>\n",
       "      <td id=\"T_aeb15_row4_col29\" class=\"data row4 col29\" >0.062447</td>\n",
       "    </tr>\n",
       "    <tr>\n",
       "      <th id=\"T_aeb15_level0_row5\" class=\"row_heading level0 row5\" >bm25_k=5_k1=0.05_b=0.1</th>\n",
       "      <td id=\"T_aeb15_row5_col0\" class=\"data row5 col0\" >3.060606</td>\n",
       "      <td id=\"T_aeb15_row5_col1\" class=\"data row5 col1\" >3.238423</td>\n",
       "      <td id=\"T_aeb15_row5_col2\" class=\"data row5 col2\" >0.478182</td>\n",
       "      <td id=\"T_aeb15_row5_col3\" class=\"data row5 col3\" >0.394797</td>\n",
       "      <td id=\"T_aeb15_row5_col4\" class=\"data row5 col4\" >0.325497</td>\n",
       "      <td id=\"T_aeb15_row5_col5\" class=\"data row5 col5\" >0.126722</td>\n",
       "      <td id=\"T_aeb15_row5_col6\" class=\"data row5 col6\" >0.285287</td>\n",
       "      <td id=\"T_aeb15_row5_col7\" class=\"data row5 col7\" >0.247006</td>\n",
       "      <td id=\"T_aeb15_row5_col8\" class=\"data row5 col8\" >0.299598</td>\n",
       "      <td id=\"T_aeb15_row5_col9\" class=\"data row5 col9\" >0.153437</td>\n",
       "      <td id=\"T_aeb15_row5_col10\" class=\"data row5 col10\" >0.413925</td>\n",
       "      <td id=\"T_aeb15_row5_col11\" class=\"data row5 col11\" >0.196150</td>\n",
       "      <td id=\"T_aeb15_row5_col12\" class=\"data row5 col12\" >0.165646</td>\n",
       "      <td id=\"T_aeb15_row5_col13\" class=\"data row5 col13\" >0.136293</td>\n",
       "      <td id=\"T_aeb15_row5_col14\" class=\"data row5 col14\" >0.218316</td>\n",
       "      <td id=\"T_aeb15_row5_col15\" class=\"data row5 col15\" >0.118834</td>\n",
       "      <td id=\"T_aeb15_row5_col16\" class=\"data row5 col16\" >0.236063</td>\n",
       "      <td id=\"T_aeb15_row5_col17\" class=\"data row5 col17\" >0.120050</td>\n",
       "      <td id=\"T_aeb15_row5_col18\" class=\"data row5 col18\" >2.668513</td>\n",
       "      <td id=\"T_aeb15_row5_col19\" class=\"data row5 col19\" >0.087364</td>\n",
       "      <td id=\"T_aeb15_row5_col20\" class=\"data row5 col20\" >2.991640</td>\n",
       "      <td id=\"T_aeb15_row5_col21\" class=\"data row5 col21\" >0.120530</td>\n",
       "      <td id=\"T_aeb15_row5_col22\" class=\"data row5 col22\" >3.052196</td>\n",
       "      <td id=\"T_aeb15_row5_col23\" class=\"data row5 col23\" >0.173959</td>\n",
       "      <td id=\"T_aeb15_row5_col24\" class=\"data row5 col24\" >0.050701</td>\n",
       "      <td id=\"T_aeb15_row5_col25\" class=\"data row5 col25\" >0.046622</td>\n",
       "      <td id=\"T_aeb15_row5_col26\" class=\"data row5 col26\" >0.045236</td>\n",
       "      <td id=\"T_aeb15_row5_col27\" class=\"data row5 col27\" >0.056141</td>\n",
       "      <td id=\"T_aeb15_row5_col28\" class=\"data row5 col28\" >0.043820</td>\n",
       "      <td id=\"T_aeb15_row5_col29\" class=\"data row5 col29\" >0.050803</td>\n",
       "    </tr>\n",
       "    <tr>\n",
       "      <th id=\"T_aeb15_level0_row6\" class=\"row_heading level0 row6\" >Implicit ALS</th>\n",
       "      <td id=\"T_aeb15_row6_col0\" class=\"data row6 col0\" >2.460606</td>\n",
       "      <td id=\"T_aeb15_row6_col1\" class=\"data row6 col1\" >3.759608</td>\n",
       "      <td id=\"T_aeb15_row6_col2\" class=\"data row6 col2\" >0.559394</td>\n",
       "      <td id=\"T_aeb15_row6_col3\" class=\"data row6 col3\" >0.422978</td>\n",
       "      <td id=\"T_aeb15_row6_col4\" class=\"data row6 col4\" >0.350254</td>\n",
       "      <td id=\"T_aeb15_row6_col5\" class=\"data row6 col5\" >0.146382</td>\n",
       "      <td id=\"T_aeb15_row6_col6\" class=\"data row6 col6\" >0.341199</td>\n",
       "      <td id=\"T_aeb15_row6_col7\" class=\"data row6 col7\" >0.238107</td>\n",
       "      <td id=\"T_aeb15_row6_col8\" class=\"data row6 col8\" >0.319485</td>\n",
       "      <td id=\"T_aeb15_row6_col9\" class=\"data row6 col9\" >0.178211</td>\n",
       "      <td id=\"T_aeb15_row6_col10\" class=\"data row6 col10\" >0.310895</td>\n",
       "      <td id=\"T_aeb15_row6_col11\" class=\"data row6 col11\" >0.138882</td>\n",
       "      <td id=\"T_aeb15_row6_col12\" class=\"data row6 col12\" >0.093603</td>\n",
       "      <td id=\"T_aeb15_row6_col13\" class=\"data row6 col13\" >0.079234</td>\n",
       "      <td id=\"T_aeb15_row6_col14\" class=\"data row6 col14\" >0.143637</td>\n",
       "      <td id=\"T_aeb15_row6_col15\" class=\"data row6 col15\" >0.053114</td>\n",
       "      <td id=\"T_aeb15_row6_col16\" class=\"data row6 col16\" >0.178224</td>\n",
       "      <td id=\"T_aeb15_row6_col17\" class=\"data row6 col17\" >0.054427</td>\n",
       "      <td id=\"T_aeb15_row6_col18\" class=\"data row6 col18\" >3.124817</td>\n",
       "      <td id=\"T_aeb15_row6_col19\" class=\"data row6 col19\" >0.195649</td>\n",
       "      <td id=\"T_aeb15_row6_col20\" class=\"data row6 col20\" >3.200408</td>\n",
       "      <td id=\"T_aeb15_row6_col21\" class=\"data row6 col21\" >0.069771</td>\n",
       "      <td id=\"T_aeb15_row6_col22\" class=\"data row6 col22\" >3.334841</td>\n",
       "      <td id=\"T_aeb15_row6_col23\" class=\"data row6 col23\" >0.173319</td>\n",
       "      <td id=\"T_aeb15_row6_col24\" class=\"data row6 col24\" >0.053307</td>\n",
       "      <td id=\"T_aeb15_row6_col25\" class=\"data row6 col25\" >0.057616</td>\n",
       "      <td id=\"T_aeb15_row6_col26\" class=\"data row6 col26\" >0.062733</td>\n",
       "      <td id=\"T_aeb15_row6_col27\" class=\"data row6 col27\" >0.047517</td>\n",
       "      <td id=\"T_aeb15_row6_col28\" class=\"data row6 col28\" >0.049880</td>\n",
       "      <td id=\"T_aeb15_row6_col29\" class=\"data row6 col29\" >0.042432</td>\n",
       "    </tr>\n",
       "  </tbody>\n",
       "</table>\n"
      ],
      "text/plain": [
       "<pandas.io.formats.style.Styler at 0x23cfefc35e0>"
      ]
     },
     "execution_count": 33,
     "metadata": {},
     "output_type": "execute_result"
    }
   ],
   "source": [
    "pivot_results = (\n",
    "    pd.DataFrame(cv_results[\"metrics\"])\n",
    "    .drop(columns=\"i_split\")\n",
    "    .groupby([\"model\"], sort=False)\n",
    "    .agg([\"mean\", \"std\"])\n",
    ")\n",
    "mean_metric_subset = [(metric, \"mean\") for metric in pivot_results.columns.levels[0]]\n",
    "(\n",
    "    pivot_results.style\n",
    "    .highlight_min(subset=mean_metric_subset, color='lightcoral', axis=0)\n",
    "    .highlight_max(subset=mean_metric_subset, color='lightgreen', axis=0)\n",
    ")"
   ]
  },
  {
   "cell_type": "code",
   "execution_count": 34,
   "id": "bd5ef403-0de1-4e18-a5b2-773e30b241ea",
   "metadata": {},
   "outputs": [
    {
     "data": {
      "text/html": [
       "<div>\n",
       "<style scoped>\n",
       "    .dataframe tbody tr th:only-of-type {\n",
       "        vertical-align: middle;\n",
       "    }\n",
       "\n",
       "    .dataframe tbody tr th {\n",
       "        vertical-align: top;\n",
       "    }\n",
       "\n",
       "    .dataframe thead th {\n",
       "        text-align: right;\n",
       "    }\n",
       "</style>\n",
       "<table border=\"1\" class=\"dataframe\">\n",
       "  <thead>\n",
       "    <tr style=\"text-align: right;\">\n",
       "      <th></th>\n",
       "      <th>i_split</th>\n",
       "      <th>start</th>\n",
       "      <th>end</th>\n",
       "      <th>train</th>\n",
       "      <th>train_users</th>\n",
       "      <th>train_items</th>\n",
       "      <th>test</th>\n",
       "      <th>test_users</th>\n",
       "      <th>test_items</th>\n",
       "    </tr>\n",
       "  </thead>\n",
       "  <tbody>\n",
       "    <tr>\n",
       "      <th>0</th>\n",
       "      <td>0</td>\n",
       "      <td>2024-03-22</td>\n",
       "      <td>2024-04-21</td>\n",
       "      <td>8856</td>\n",
       "      <td>289</td>\n",
       "      <td>93</td>\n",
       "      <td>273</td>\n",
       "      <td>11</td>\n",
       "      <td>29</td>\n",
       "    </tr>\n",
       "    <tr>\n",
       "      <th>1</th>\n",
       "      <td>1</td>\n",
       "      <td>2024-04-21</td>\n",
       "      <td>2024-05-21</td>\n",
       "      <td>9357</td>\n",
       "      <td>292</td>\n",
       "      <td>93</td>\n",
       "      <td>98</td>\n",
       "      <td>5</td>\n",
       "      <td>13</td>\n",
       "    </tr>\n",
       "    <tr>\n",
       "      <th>2</th>\n",
       "      <td>2</td>\n",
       "      <td>2024-05-21</td>\n",
       "      <td>2024-06-20</td>\n",
       "      <td>9693</td>\n",
       "      <td>301</td>\n",
       "      <td>93</td>\n",
       "      <td>17</td>\n",
       "      <td>5</td>\n",
       "      <td>6</td>\n",
       "    </tr>\n",
       "  </tbody>\n",
       "</table>\n",
       "</div>"
      ],
      "text/plain": [
       "   i_split      start        end  train  train_users  train_items  test  \\\n",
       "0        0 2024-03-22 2024-04-21   8856          289           93   273   \n",
       "1        1 2024-04-21 2024-05-21   9357          292           93    98   \n",
       "2        2 2024-05-21 2024-06-20   9693          301           93    17   \n",
       "\n",
       "   test_users  test_items  \n",
       "0          11          29  \n",
       "1           5          13  \n",
       "2           5           6  "
      ]
     },
     "execution_count": 34,
     "metadata": {},
     "output_type": "execute_result"
    }
   ],
   "source": [
    "pd.DataFrame(cv_results[\"splits\"])"
   ]
  },
  {
   "cell_type": "markdown",
   "id": "77532f10-41ab-48a2-8fa9-f68a7048cd77",
   "metadata": {
    "jp-MarkdownHeadingCollapsed": true
   },
   "source": [
    "### ❗❗❗ TESTING ZONE ❗❗❗"
   ]
  },
  {
   "cell_type": "code",
   "execution_count": 28,
   "id": "8cec2001-918c-4e75-9a95-4419192e1a3f",
   "metadata": {},
   "outputs": [],
   "source": [
    "def calculate_precision(recos, df_test):\n",
    "    test_data_grouped = df_test.groupby('user_id')['item_id'].apply(set).to_dict()\n",
    "    \n",
    "    precisions = []\n",
    "    \n",
    "    for user_id, group in recos.groupby('user_id'):\n",
    "        recommended_items = set(group['item_id'].head(15))\n",
    "        true_items = test_data_grouped.get(user_id, set())\n",
    "        correct_recommendations = len(recommended_items & true_items)\n",
    "        precision = correct_recommendations / len(recommended_items) if recommended_items else 0\n",
    "        precisions.append(precision)\n",
    "    \n",
    "    return sum(precisions) / len(precisions) if precisions else 0"
   ]
  },
  {
   "cell_type": "code",
   "execution_count": 29,
   "id": "4e3a6871-52c6-4e14-90dc-941a05beae47",
   "metadata": {},
   "outputs": [
    {
     "data": {
      "text/plain": [
       "0.0"
      ]
     },
     "execution_count": 29,
     "metadata": {},
     "output_type": "execute_result"
    }
   ],
   "source": [
    "calculate_precision(df_test, clearRecos)"
   ]
  },
  {
   "cell_type": "code",
   "execution_count": null,
   "id": "576b67a2-83de-4544-8431-ffd3a8a4ba21",
   "metadata": {},
   "outputs": [],
   "source": []
  }
 ],
 "metadata": {
  "kernelspec": {
   "display_name": "Python 3 (ipykernel)",
   "language": "python",
   "name": "python3"
  },
  "language_info": {
   "codemirror_mode": {
    "name": "ipython",
    "version": 3
   },
   "file_extension": ".py",
   "mimetype": "text/x-python",
   "name": "python",
   "nbconvert_exporter": "python",
   "pygments_lexer": "ipython3",
   "version": "3.8.18"
  }
 },
 "nbformat": 4,
 "nbformat_minor": 5
}
